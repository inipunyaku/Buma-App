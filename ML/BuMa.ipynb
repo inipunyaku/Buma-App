{
  "cells": [
    {
      "cell_type": "code",
      "execution_count": null,
      "metadata": {
        "id": "nJqtb_spWzhR"
      },
      "outputs": [],
      "source": [
        "import os\n",
        "import zipfile\n",
        "import random\n",
        "import shutil\n",
        "import tensorflow as tf\n",
        "import pathlib\n",
        "from tensorflow.keras.preprocessing.image import ImageDataGenerator\n",
        "from shutil import copyfile\n"
      ]
    },
    {
      "cell_type": "code",
      "execution_count": null,
      "metadata": {
        "colab": {
          "base_uri": "https://localhost:8080/"
        },
        "id": "Tp4nTOhEt3U5",
        "outputId": "61a5891a-f0fe-45d2-8cea-7fc1919287b7"
      },
      "outputs": [
        {
          "output_type": "stream",
          "name": "stdout",
          "text": [
            "Drive already mounted at /content/drive; to attempt to forcibly remount, call drive.mount(\"/content/drive\", force_remount=True).\n"
          ]
        }
      ],
      "source": [
        "from google.colab import drive\n",
        "drive.mount('/content/drive')"
      ]
    },
    {
      "cell_type": "code",
      "execution_count": null,
      "metadata": {
        "id": "mX0g1ZMPYLMj"
      },
      "outputs": [],
      "source": [
        "# Unzip and extract\n",
        "zip_ref = zipfile.ZipFile('/content/drive/MyDrive/BuMa.zip', 'r')\n",
        "zip_ref.extractall('/content/dataset_cek')\n",
        "zip_ref.close()"
      ]
    },
    {
      "cell_type": "markdown",
      "metadata": {
        "id": "K4yU5KDNgNNZ"
      },
      "source": [
        "# **Directori**"
      ]
    },
    {
      "cell_type": "code",
      "execution_count": null,
      "metadata": {
        "id": "hVinAOYfYOAg"
      },
      "outputs": [],
      "source": [
        "train_dir = os.path.join('/content/dataset_cek/train')\n",
        "validation_dir=os.path.join('/content/dataset_cek/validation')"
      ]
    },
    {
      "cell_type": "markdown",
      "metadata": {
        "id": "_Q5QcyMtgKZF"
      },
      "source": [
        "# **MODEL**"
      ]
    },
    {
      "cell_type": "code",
      "execution_count": null,
      "metadata": {
        "id": "siyxQ-gauta_"
      },
      "outputs": [],
      "source": [
        "# Augmentasi\n",
        "train_datagen = ImageDataGenerator(rescale = 1./255,\n",
        "                                    shear_range=0.2,\n",
        "                                    zoom_range=0.2,\n",
        "                                    horizontal_flip=True,\n",
        "                                    fill_mode='nearest')\n",
        "\n",
        "\n",
        "validation_datagen = ImageDataGenerator(rescale=1./255, \n",
        "                                        shear_range=0.2,\n",
        "                                        zoom_range=0.2,\n",
        "                                        horizontal_flip=True)\n"
      ]
    },
    {
      "cell_type": "code",
      "execution_count": null,
      "metadata": {
        "colab": {
          "base_uri": "https://localhost:8080/"
        },
        "id": "I3rP56G1vfmL",
        "outputId": "661cf7b8-9e75-4555-ee51-17ada40c3f92"
      },
      "outputs": [
        {
          "output_type": "stream",
          "name": "stdout",
          "text": [
            "Found 500 images belonging to 5 classes.\n",
            "Found 100 images belonging to 5 classes.\n"
          ]
        }
      ],
      "source": [
        "train_generator = train_datagen.flow_from_directory('/content/dataset_cek/train',\n",
        "                                                      target_size=(150,150),\n",
        "  \t                                                  class_mode='categorical',\n",
        "                                                      batch_size=20)\n",
        "\n",
        "\n",
        "validation_generator = validation_datagen.flow_from_directory('/content/dataset_cek/validation',\n",
        "                                                                target_size=(150,150),\n",
        "\t                                                              class_mode='categorical',\n",
        "                                                                batch_size=20)"
      ]
    },
    {
      "cell_type": "code",
      "execution_count": null,
      "metadata": {
        "colab": {
          "base_uri": "https://localhost:8080/"
        },
        "id": "bi8KDwgWxYlX",
        "outputId": "73bb13c1-bd9c-4e9c-94b2-ee44ba7a5278"
      },
      "outputs": [
        {
          "output_type": "stream",
          "name": "stdout",
          "text": [
            "Model: \"sequential\"\n",
            "_________________________________________________________________\n",
            " Layer (type)                Output Shape              Param #   \n",
            "=================================================================\n",
            " conv2d (Conv2D)             (None, 148, 148, 64)      1792      \n",
            "                                                                 \n",
            " max_pooling2d (MaxPooling2D  (None, 74, 74, 64)       0         \n",
            " )                                                               \n",
            "                                                                 \n",
            " conv2d_1 (Conv2D)           (None, 72, 72, 128)       73856     \n",
            "                                                                 \n",
            " max_pooling2d_1 (MaxPooling  (None, 36, 36, 128)      0         \n",
            " 2D)                                                             \n",
            "                                                                 \n",
            " conv2d_2 (Conv2D)           (None, 34, 34, 128)       147584    \n",
            "                                                                 \n",
            " max_pooling2d_2 (MaxPooling  (None, 17, 17, 128)      0         \n",
            " 2D)                                                             \n",
            "                                                                 \n",
            " flatten (Flatten)           (None, 36992)             0         \n",
            "                                                                 \n",
            " dropout (Dropout)           (None, 36992)             0         \n",
            "                                                                 \n",
            " dense (Dense)               (None, 512)               18940416  \n",
            "                                                                 \n",
            " dense_1 (Dense)             (None, 5)                 2565      \n",
            "                                                                 \n",
            "=================================================================\n",
            "Total params: 19,166,213\n",
            "Trainable params: 19,166,213\n",
            "Non-trainable params: 0\n",
            "_________________________________________________________________\n"
          ]
        }
      ],
      "source": [
        "model = tf.keras.models.Sequential([\n",
        "    tf.keras.layers.Conv2D(64, (3,3), activation='relu', input_shape=(150, 150, 3)),\n",
        "    tf.keras.layers.MaxPooling2D(2, 2),\n",
        "    tf.keras.layers.Conv2D(128, (3,3), activation='relu'),\n",
        "    tf.keras.layers.MaxPooling2D(2,2),\n",
        "    tf.keras.layers.Conv2D(128, (3,3), activation='relu'),\n",
        "    tf.keras.layers.MaxPooling2D(2,2),\n",
        "    tf.keras.layers.Flatten(),\n",
        "    tf.keras.layers.Dropout(0.5),\n",
        "    tf.keras.layers.Dense(512, activation='relu'),\n",
        "    tf.keras.layers.Dense(5, activation='softmax')\n",
        "])\n",
        "\n",
        "model.summary()"
      ]
    },
    {
      "cell_type": "code",
      "execution_count": null,
      "metadata": {
        "id": "56qXQZfJxZrf"
      },
      "outputs": [],
      "source": [
        "model.compile(loss = 'categorical_crossentropy', \n",
        "              optimizer='rmsprop', \n",
        "              metrics=['accuracy'])"
      ]
    },
    {
      "cell_type": "code",
      "execution_count": null,
      "metadata": {
        "colab": {
          "background_save": true,
          "base_uri": "https://localhost:8080/"
        },
        "id": "oUuTLHUYxmuJ",
        "outputId": "238e0251-9b99-4c0c-d75d-e750e2452db1"
      },
      "outputs": [
        {
          "output_type": "stream",
          "name": "stdout",
          "text": [
            "Epoch 1/25\n",
            "20/20 [==============================] - 50s 2s/step - loss: 4.9123 - accuracy: 0.3275 - val_loss: 1.1087 - val_accuracy: 0.3833\n",
            "Epoch 2/25\n",
            "20/20 [==============================] - 44s 2s/step - loss: 1.2636 - accuracy: 0.4350 - val_loss: 1.3046 - val_accuracy: 0.5000\n",
            "Epoch 3/25\n",
            "20/20 [==============================] - 44s 2s/step - loss: 1.0463 - accuracy: 0.5575 - val_loss: 3.1116 - val_accuracy: 0.3833\n",
            "Epoch 4/25\n",
            "20/20 [==============================] - 45s 2s/step - loss: 0.9487 - accuracy: 0.6500 - val_loss: 0.8328 - val_accuracy: 0.7500\n",
            "Epoch 5/25\n",
            "20/20 [==============================] - 46s 2s/step - loss: 0.7648 - accuracy: 0.7000 - val_loss: 0.5941 - val_accuracy: 0.7000\n",
            "Epoch 6/25\n",
            "20/20 [==============================] - 44s 2s/step - loss: 0.6854 - accuracy: 0.7425 - val_loss: 1.5357 - val_accuracy: 0.5167\n",
            "Epoch 7/25\n",
            "20/20 [==============================] - 46s 2s/step - loss: 0.7612 - accuracy: 0.7375 - val_loss: 0.9190 - val_accuracy: 0.5833\n",
            "Epoch 8/25\n",
            "20/20 [==============================] - 44s 2s/step - loss: 0.6058 - accuracy: 0.7675 - val_loss: 0.3240 - val_accuracy: 0.9000\n",
            "Epoch 9/25\n",
            "20/20 [==============================] - 45s 2s/step - loss: 0.6227 - accuracy: 0.8025 - val_loss: 0.2294 - val_accuracy: 0.8833\n",
            "Epoch 10/25\n",
            "20/20 [==============================] - 44s 2s/step - loss: 0.4121 - accuracy: 0.8250 - val_loss: 0.3667 - val_accuracy: 0.8333\n",
            "Epoch 11/25\n",
            "20/20 [==============================] - 45s 2s/step - loss: 0.4707 - accuracy: 0.8400 - val_loss: 0.2222 - val_accuracy: 0.9667\n",
            "Epoch 12/25\n",
            "20/20 [==============================] - 43s 2s/step - loss: 0.3454 - accuracy: 0.8575 - val_loss: 0.1842 - val_accuracy: 0.9500\n",
            "Epoch 13/25\n",
            "20/20 [==============================] - 43s 2s/step - loss: 0.4725 - accuracy: 0.8350 - val_loss: 0.4895 - val_accuracy: 0.7667\n",
            "Epoch 14/25\n",
            "20/20 [==============================] - 43s 2s/step - loss: 0.3671 - accuracy: 0.8650 - val_loss: 0.1928 - val_accuracy: 0.9167\n",
            "Epoch 15/25\n",
            "20/20 [==============================] - 43s 2s/step - loss: 0.2241 - accuracy: 0.9125 - val_loss: 0.2003 - val_accuracy: 0.9667\n",
            "Epoch 16/25\n",
            "20/20 [==============================] - 47s 2s/step - loss: 0.2571 - accuracy: 0.8925 - val_loss: 2.4254 - val_accuracy: 0.6667\n",
            "Epoch 17/25\n",
            "20/20 [==============================] - 44s 2s/step - loss: 0.6365 - accuracy: 0.8725 - val_loss: 0.3789 - val_accuracy: 0.8500\n",
            "Epoch 18/25\n",
            "20/20 [==============================] - 44s 2s/step - loss: 0.2593 - accuracy: 0.9225 - val_loss: 0.1788 - val_accuracy: 0.9167\n",
            "Epoch 19/25\n",
            "20/20 [==============================] - 44s 2s/step - loss: 0.1585 - accuracy: 0.9525 - val_loss: 0.0652 - val_accuracy: 1.0000\n",
            "Epoch 20/25\n",
            "20/20 [==============================] - 44s 2s/step - loss: 0.9453 - accuracy: 0.8625 - val_loss: 0.1002 - val_accuracy: 0.9500\n",
            "Epoch 21/25\n",
            "20/20 [==============================] - 44s 2s/step - loss: 0.1034 - accuracy: 0.9650 - val_loss: 0.1376 - val_accuracy: 0.9333\n",
            "Epoch 22/25\n",
            " 8/20 [==============================] - 44s 2s/step - loss: 0.1756 - accuracy: 0.9325 - val_loss: 0.0757 - val_accuracy: 0.9833\n"
          ]
        }
      ],
      "source": [
        "# Train  model\n",
        "history = model.fit(train_generator, \n",
        "                    epochs=25, \n",
        "                    steps_per_epoch=20, \n",
        "                    validation_data = validation_generator, \n",
        "                    verbose = 1, \n",
        "                    validation_steps=3)"
      ]
    },
    {
      "cell_type": "code",
      "execution_count": null,
      "metadata": {
        "colab": {
          "base_uri": "https://localhost:8080/",
          "height": 298
        },
        "id": "N1De4SOiIuyR",
        "outputId": "b2b16d36-c86d-4fee-b73e-365df1c0408c"
      },
      "outputs": [
        {
          "output_type": "display_data",
          "data": {
            "text/plain": [
              "<Figure size 432x288 with 1 Axes>"
            ],
            "image/png": "[encoded data removed]"
          },
          "metadata": {
            "needs_background": "light"
          }
        },
        {
          "output_type": "display_data",
          "data": {
            "text/plain": [
              "<Figure size 432x288 with 0 Axes>"
            ]
          },
          "metadata": {}
        }
      ],
      "source": [
        "import matplotlib.pyplot as plt\n",
        "\n",
        "acc = history.history['accuracy']     \n",
        "val_acc = history.history['val_accuracy']\n",
        "loss = history.history['loss']\n",
        "val_loss = history.history['val_loss']\n",
        "\n",
        "epochs = range(len(acc))\n",
        "\n",
        "plt.plot(epochs, acc, 'r', label='Training accuracy')\n",
        "plt.plot(epochs, val_acc, 'g', label='Validation accuracy')\n",
        "plt.title('Training and validation accuracy')\n",
        "plt.legend(loc=0)\n",
        "plt.figure()\n",
        "\n",
        "plt.show()"
      ]
    },
    {
      "cell_type": "code",
      "execution_count": null,
      "metadata": {
        "colab": {
          "base_uri": "https://localhost:8080/"
        },
        "id": "9yECgdPe6pxQ",
        "outputId": "3ffa519f-c5ae-47f1-c434-93e039d3727e"
      },
      "outputs": [
        {
          "name": "stdout",
          "output_type": "stream",
          "text": [
            "INFO:tensorflow:Assets written to: /tmp/saved_model/assets\n"
          ]
        }
      ],
      "source": [
        "export_dir = '/tmp/saved_model'\n",
        "tf.saved_model.save(model, export_dir)"
      ]
    },
    {
      "cell_type": "code",
      "execution_count": null,
      "metadata": {
        "colab": {
          "base_uri": "https://localhost:8080/"
        },
        "id": "d8ZQHE-86sJr",
        "outputId": "52a66834-0e45-4324-8196-297ef4aabba0"
      },
      "outputs": [
        {
          "name": "stderr",
          "output_type": "stream",
          "text": [
            "WARNING:absl:Buffer deduplication procedure will be skipped when flatbuffer library is not properly loaded\n"
          ]
        }
      ],
      "source": [
        "# Convert model\n",
        "converter = tf.lite.TFLiteConverter.from_saved_model(export_dir)\n",
        "tflite_model = converter.convert()"
      ]
    },
    {
      "cell_type": "code",
      "execution_count": null,
      "metadata": {
        "colab": {
          "base_uri": "https://localhost:8080/"
        },
        "id": "g_m8sJdz6udi",
        "outputId": "e2f96f0c-19a2-460b-ec12-693be27b3cd3"
      },
      "outputs": [
        {
          "data": {
            "text/plain": [
              "76668484"
            ]
          },
          "execution_count": 13,
          "metadata": {},
          "output_type": "execute_result"
        }
      ],
      "source": [
        "# Save the model\n",
        "tflite_model_file = pathlib.Path('/tmp/buma4.tflite')\n",
        "tflite_model_file.write_bytes(tflite_model)"
      ]
    },
    {
      "cell_type": "code",
      "execution_count": null,
      "metadata": {
        "id": "bIcS-Wr4VQcN"
      },
      "outputs": [],
      "source": [
        ""
      ]
    }
  ],
  "metadata": {
    "colab": {
      "collapsed_sections": [],
      "name": "percobaan9.ipynb",
      "provenance": []
    },
    "kernelspec": {
      "display_name": "Python 3",
      "name": "python3"
    },
    "language_info": {
      "name": "python"
    }
  },
  "nbformat": 4,
  "nbformat_minor": 0
}
