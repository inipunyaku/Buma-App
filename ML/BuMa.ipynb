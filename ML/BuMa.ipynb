{
  "cells": [
    {
      "cell_type": "code",
      "execution_count": null,
      "metadata": {
        "id": "nJqtb_spWzhR"
      },
      "outputs": [],
      "source": [
        "import os\n",
        "import zipfile\n",
        "import random\n",
        "import shutil\n",
        "import tensorflow as tf\n",
        "import pathlib\n",
        "from tensorflow.keras.preprocessing.image import ImageDataGenerator\n",
        "from shutil import copyfile\n"
      ]
    },
    {
      "cell_type": "code",
      "execution_count": null,
      "metadata": {
        "colab": {
          "base_uri": "https://localhost:8080/"
        },
        "id": "Tp4nTOhEt3U5",
        "outputId": "88f8525d-1906-4e89-e796-db3b4faec735"
      },
      "outputs": [
        {
          "output_type": "stream",
          "name": "stdout",
          "text": [
            "Drive already mounted at /content/drive; to attempt to forcibly remount, call drive.mount(\"/content/drive\", force_remount=True).\n"
          ]
        }
      ],
      "source": [
        "from google.colab import drive\n",
        "drive.mount('/content/drive')\n"
      ]
    },
    {
      "cell_type": "code",
      "execution_count": null,
      "metadata": {
        "id": "mX0g1ZMPYLMj"
      },
      "outputs": [],
      "source": [
        "# Unzip and extract\n",
        "zip_ref = zipfile.ZipFile('/content/drive/MyDrive/BuMa.zip', 'r')\n",
        "zip_ref.extractall('/content/dataset_cek')\n",
        "zip_ref.close()"
      ]
    },
    {
      "cell_type": "markdown",
      "metadata": {
        "id": "K4yU5KDNgNNZ"
      },
      "source": [
        "# **Directori**"
      ]
    },
    {
      "cell_type": "code",
      "execution_count": null,
      "metadata": {
        "id": "hVinAOYfYOAg"
      },
      "outputs": [],
      "source": [
        "train_dir = os.path.join('/content/dataset_cek/train')\n",
        "validation_dir=os.path.join('/content/dataset_cek/validation')"
      ]
    },
    {
      "cell_type": "markdown",
      "metadata": {
        "id": "_Q5QcyMtgKZF"
      },
      "source": [
        "# **MODEL**"
      ]
    },
    {
      "cell_type": "code",
      "execution_count": null,
      "metadata": {
        "id": "siyxQ-gauta_"
      },
      "outputs": [],
      "source": [
        "# Augmentasi\n",
        "train_datagen = ImageDataGenerator(rescale = 1./255,\n",
        "                                    shear_range=0.2,\n",
        "                                    zoom_range=0.2,\n",
        "                                    horizontal_flip=True,\n",
        "                                    fill_mode='nearest')\n",
        "\n",
        "\n",
        "validation_datagen = ImageDataGenerator(rescale=1./255, \n",
        "                                        shear_range=0.2,\n",
        "                                        zoom_range=0.2,\n",
        "                                        horizontal_flip=True)\n"
      ]
    },
    {
      "cell_type": "code",
      "execution_count": null,
      "metadata": {
        "colab": {
          "base_uri": "https://localhost:8080/"
        },
        "id": "I3rP56G1vfmL",
        "outputId": "b55162b3-d90d-441c-e448-f6185cf31cb1"
      },
      "outputs": [
        {
          "output_type": "stream",
          "name": "stdout",
          "text": [
            "Found 500 images belonging to 5 classes.\n",
            "Found 100 images belonging to 5 classes.\n"
          ]
        }
      ],
      "source": [
        "train_generator = train_datagen.flow_from_directory('/content/dataset_cek/train',\n",
        "                                                      target_size=(150,150),\n",
        "  \t                                                  class_mode='categorical',\n",
        "                                                      batch_size=20)\n",
        "\n",
        "\n",
        "validation_generator = validation_datagen.flow_from_directory('/content/dataset_cek/validation',\n",
        "                                                                target_size=(150,150),\n",
        "\t                                                              class_mode='categorical',\n",
        "                                                                batch_size=20)"
      ]
    },
    {
      "cell_type": "code",
      "execution_count": null,
      "metadata": {
        "colab": {
          "base_uri": "https://localhost:8080/"
        },
        "id": "bi8KDwgWxYlX",
        "outputId": "49948c33-0f60-4b1b-b71e-7ae24f864679"
      },
      "outputs": [
        {
          "output_type": "stream",
          "name": "stdout",
          "text": [
            "Model: \"sequential_1\"\n",
            "_________________________________________________________________\n",
            " Layer (type)                Output Shape              Param #   \n",
            "=================================================================\n",
            " conv2d_3 (Conv2D)           (None, 148, 148, 64)      1792      \n",
            "                                                                 \n",
            " max_pooling2d_3 (MaxPooling  (None, 74, 74, 64)       0         \n",
            " 2D)                                                             \n",
            "                                                                 \n",
            " conv2d_4 (Conv2D)           (None, 72, 72, 128)       73856     \n",
            "                                                                 \n",
            " max_pooling2d_4 (MaxPooling  (None, 36, 36, 128)      0         \n",
            " 2D)                                                             \n",
            "                                                                 \n",
            " conv2d_5 (Conv2D)           (None, 34, 34, 128)       147584    \n",
            "                                                                 \n",
            " max_pooling2d_5 (MaxPooling  (None, 17, 17, 128)      0         \n",
            " 2D)                                                             \n",
            "                                                                 \n",
            " flatten_1 (Flatten)         (None, 36992)             0         \n",
            "                                                                 \n",
            " dropout_1 (Dropout)         (None, 36992)             0         \n",
            "                                                                 \n",
            " dense_2 (Dense)             (None, 512)               18940416  \n",
            "                                                                 \n",
            " dense_3 (Dense)             (None, 5)                 2565      \n",
            "                                                                 \n",
            "=================================================================\n",
            "Total params: 19,166,213\n",
            "Trainable params: 19,166,213\n",
            "Non-trainable params: 0\n",
            "_________________________________________________________________\n"
          ]
        }
      ],
      "source": [
        "model = tf.keras.models.Sequential([\n",
        "    tf.keras.layers.Conv2D(64, (3,3), activation='relu', input_shape=(150, 150, 3)),\n",
        "    tf.keras.layers.MaxPooling2D(2, 2),\n",
        "    tf.keras.layers.Conv2D(128, (3,3), activation='relu'),\n",
        "    tf.keras.layers.MaxPooling2D(2,2),\n",
        "    tf.keras.layers.Conv2D(128, (3,3), activation='relu'),\n",
        "    tf.keras.layers.MaxPooling2D(2,2),\n",
        "    tf.keras.layers.Flatten(),\n",
        "    tf.keras.layers.Dropout(0.5),\n",
        "    tf.keras.layers.Dense(512, activation='relu'),\n",
        "    tf.keras.layers.Dense(5, activation='softmax')\n",
        "])\n",
        "\n",
        "model.summary()"
      ]
    },
    {
      "cell_type": "code",
      "execution_count": null,
      "metadata": {
        "id": "56qXQZfJxZrf"
      },
      "outputs": [],
      "source": [
        "model.compile(loss = 'categorical_crossentropy', \n",
        "              optimizer='rmsprop', \n",
        "              metrics=['accuracy'])"
      ]
    },
    {
      "cell_type": "code",
      "execution_count": null,
      "metadata": {
        "colab": {
          "base_uri": "https://localhost:8080/"
        },
        "id": "oUuTLHUYxmuJ",
        "outputId": "69db72ab-8bce-49fa-c660-490db678e525"
      },
      "outputs": [
        {
          "output_type": "stream",
          "name": "stdout",
          "text": [
            "Epoch 1/25\n",
            "20/20 [==============================] - 47s 2s/step - loss: 0.3330 - accuracy: 0.9100 - val_loss: 0.0319 - val_accuracy: 1.0000\n",
            "Epoch 2/25\n",
            "20/20 [==============================] - 47s 2s/step - loss: 0.0954 - accuracy: 0.9600 - val_loss: 0.0364 - val_accuracy: 0.9833\n",
            "Epoch 3/25\n",
            "20/20 [==============================] - 48s 2s/step - loss: 0.3783 - accuracy: 0.8975 - val_loss: 0.0629 - val_accuracy: 0.9833\n",
            "Epoch 4/25\n",
            "20/20 [==============================] - 46s 2s/step - loss: 0.1115 - accuracy: 0.9725 - val_loss: 0.0510 - val_accuracy: 0.9833\n",
            "Epoch 5/25\n",
            "20/20 [==============================] - 48s 2s/step - loss: 0.1939 - accuracy: 0.9350 - val_loss: 0.0681 - val_accuracy: 0.9833\n",
            "Epoch 6/25\n",
            "20/20 [==============================] - 46s 2s/step - loss: 0.1453 - accuracy: 0.9375 - val_loss: 0.2252 - val_accuracy: 0.9000\n",
            "Epoch 7/25\n",
            "20/20 [==============================] - 47s 2s/step - loss: 0.1513 - accuracy: 0.9425 - val_loss: 0.1535 - val_accuracy: 0.9500\n",
            "Epoch 8/25\n",
            "20/20 [==============================] - 50s 2s/step - loss: 0.4496 - accuracy: 0.9100 - val_loss: 0.1753 - val_accuracy: 0.9667\n",
            "Epoch 9/25\n",
            "20/20 [==============================] - 46s 2s/step - loss: 0.1025 - accuracy: 0.9650 - val_loss: 0.0080 - val_accuracy: 1.0000\n",
            "Epoch 10/25\n",
            "20/20 [==============================] - 47s 2s/step - loss: 0.0867 - accuracy: 0.9700 - val_loss: 0.1664 - val_accuracy: 0.9500\n",
            "Epoch 11/25\n",
            "20/20 [==============================] - 55s 3s/step - loss: 0.0936 - accuracy: 0.9650 - val_loss: 0.0824 - val_accuracy: 0.9667\n",
            "Epoch 12/25\n",
            "20/20 [==============================] - 55s 3s/step - loss: 0.1701 - accuracy: 0.9750 - val_loss: 1.1145 - val_accuracy: 0.8167\n",
            "Epoch 13/25\n",
            "20/20 [==============================] - 61s 3s/step - loss: 0.1361 - accuracy: 0.9650 - val_loss: 0.0313 - val_accuracy: 0.9833\n",
            "Epoch 14/25\n",
            "20/20 [==============================] - 50s 2s/step - loss: 0.1326 - accuracy: 0.9675 - val_loss: 0.3479 - val_accuracy: 0.8667\n",
            "Epoch 15/25\n",
            "20/20 [==============================] - 48s 2s/step - loss: 0.0515 - accuracy: 0.9825 - val_loss: 0.0623 - val_accuracy: 0.9667\n",
            "Epoch 16/25\n",
            "20/20 [==============================] - 48s 2s/step - loss: 0.0861 - accuracy: 0.9750 - val_loss: 0.0258 - val_accuracy: 0.9833\n",
            "Epoch 17/25\n",
            "20/20 [==============================] - 49s 2s/step - loss: 0.2360 - accuracy: 0.9400 - val_loss: 0.0641 - val_accuracy: 0.9667\n",
            "Epoch 18/25\n",
            "20/20 [==============================] - 47s 2s/step - loss: 0.1261 - accuracy: 0.9550 - val_loss: 1.4377 - val_accuracy: 0.7500\n",
            "Epoch 19/25\n",
            "20/20 [==============================] - 47s 2s/step - loss: 0.1135 - accuracy: 0.9675 - val_loss: 0.0349 - val_accuracy: 0.9833\n",
            "Epoch 20/25\n",
            "20/20 [==============================] - 48s 2s/step - loss: 0.0169 - accuracy: 0.9950 - val_loss: 0.1712 - val_accuracy: 0.9500\n",
            "Epoch 21/25\n",
            "20/20 [==============================] - 47s 2s/step - loss: 0.1939 - accuracy: 0.9575 - val_loss: 0.0206 - val_accuracy: 1.0000\n",
            "Epoch 22/25\n",
            "20/20 [==============================] - 47s 2s/step - loss: 0.0674 - accuracy: 0.9825 - val_loss: 0.0222 - val_accuracy: 1.0000\n",
            "Epoch 23/25\n",
            "20/20 [==============================] - 47s 2s/step - loss: 0.1071 - accuracy: 0.9700 - val_loss: 0.0203 - val_accuracy: 0.9833\n",
            "Epoch 24/25\n",
            "20/20 [==============================] - 47s 2s/step - loss: 0.0910 - accuracy: 0.9650 - val_loss: 0.0040 - val_accuracy: 1.0000\n",
            "Epoch 25/25\n",
            "20/20 [==============================] - 48s 2s/step - loss: 0.0591 - accuracy: 0.9850 - val_loss: 0.1542 - val_accuracy: 0.9333\n"
          ]
        }
      ],
      "source": [
        "# Train  model\n",
        "history = model.fit(train_generator, \n",
        "                    epochs=25, \n",
        "                    steps_per_epoch=20, \n",
        "                    validation_data = validation_generator, \n",
        "                    verbose = 1, \n",
        "                    validation_steps=3)"
      ]
    },
    {
      "cell_type": "code",
      "execution_count": null,
      "metadata": {
        "colab": {
          "base_uri": "https://localhost:8080/",
          "height": 298
        },
        "id": "N1De4SOiIuyR",
        "outputId": "bb0a1efb-8764-41f9-e0dc-423ca566e198"
      },
      "outputs": [
        {
          "output_type": "display_data",
          "data": {
            "text/plain": [
              "<Figure size 432x288 with 1 Axes>"
            ],
            "image/png": "[encoded data removed]"
          },
          "metadata": {
            "needs_background": "light"
          }
        },
        {
          "output_type": "display_data",
          "data": {
            "text/plain": [
              "<Figure size 432x288 with 0 Axes>"
            ]
          },
          "metadata": {}
        }
      ],
      "source": [
        "import matplotlib.pyplot as plt\n",
        "\n",
        "acc = history.history['accuracy']     \n",
        "val_acc = history.history['val_accuracy']\n",
        "loss = history.history['loss']\n",
        "val_loss = history.history['val_loss']\n",
        "\n",
        "epochs = range(len(acc))\n",
        "\n",
        "plt.plot(epochs, acc, 'r', label='Training accuracy')\n",
        "plt.plot(epochs, val_acc, 'g', label='Validation accuracy')\n",
        "plt.title('Training and validation accuracy')\n",
        "plt.legend(loc=0)\n",
        "plt.figure()\n",
        "\n",
        "plt.show()"
      ]
    },
    {
      "cell_type": "code",
      "execution_count": null,
      "metadata": {
        "colab": {
          "base_uri": "https://localhost:8080/"
        },
        "id": "9yECgdPe6pxQ",
        "outputId": "5dbd7965-4984-4f61-ca5c-a41d51fdeddb"
      },
      "outputs": [
        {
          "output_type": "stream",
          "name": "stdout",
          "text": [
            "INFO:tensorflow:Assets written to: /tmp/saved_model/assets\n"
          ]
        }
      ],
      "source": [
        "export_dir = '/tmp/saved_model'\n",
        "tf.saved_model.save(model, export_dir)"
      ]
    },
    {
      "cell_type": "code",
      "execution_count": null,
      "metadata": {
        "colab": {
          "base_uri": "https://localhost:8080/"
        },
        "id": "d8ZQHE-86sJr",
        "outputId": "30320dda-10d0-4ebb-ebc7-be7dce18ca69"
      },
      "outputs": [
        {
          "output_type": "stream",
          "name": "stderr",
          "text": [
            "WARNING:absl:Buffer deduplication procedure will be skipped when flatbuffer library is not properly loaded\n"
          ]
        }
      ],
      "source": [
        "# Convert model\n",
        "converter = tf.lite.TFLiteConverter.from_saved_model(export_dir)\n",
        "tflite_model = converter.convert()"
      ]
    },
    {
      "cell_type": "code",
      "execution_count": null,
      "metadata": {
        "colab": {
          "base_uri": "https://localhost:8080/"
        },
        "id": "g_m8sJdz6udi",
        "outputId": "13bf35d1-baf3-44a6-c5af-ddba76b220b7"
      },
      "outputs": [
        {
          "output_type": "execute_result",
          "data": {
            "text/plain": [
              "76668572"
            ]
          },
          "metadata": {},
          "execution_count": 33
        }
      ],
      "source": [
        "# Save the model\n",
        "tflite_model_file = pathlib.Path('/tmp/buma4.tflite')\n",
        "tflite_model_file.write_bytes(tflite_model)"
      ]
    },
    {
      "cell_type": "code",
      "execution_count": null,
      "metadata": {
        "id": "bIcS-Wr4VQcN"
      },
      "outputs": [],
      "source": [
        ""
      ]
    }
  ],
  "metadata": {
    "colab": {
      "collapsed_sections": [],
      "name": "percobaan9.ipynb",
      "provenance": []
    },
    "kernelspec": {
      "display_name": "Python 3",
      "name": "python3"
    },
    "language_info": {
      "name": "python"
    }
  },
  "nbformat": 4,
  "nbformat_minor": 0
}